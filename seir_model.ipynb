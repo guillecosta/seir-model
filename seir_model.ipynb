{
 "cells": [
  {
   "cell_type": "code",
   "execution_count": 2,
   "metadata": {},
   "outputs": [],
   "source": [
    "import numpy as np\n",
    "import pandas as pd\n",
    "import matplotlib.pyplot as plt\n",
    "import urllib\n",
    "\n",
    "from hyperopt import hp,fmin,tpe\n",
    "\n",
    "N0 = 200000000"
   ]
  },
  {
   "cell_type": "markdown",
   "metadata": {},
   "source": [
    "Primeiramente, implementamos um modelo SEIR discretizado levando em consideração a mortalidade. O modelo tem quatro parâmetros ($\\alpha$, $\\beta$, $\\gamma$, $\\mu$) e requer quatro condições iniciais ($S_0$, $E_0$, $I_0$, $R_0$). Como não temos dados para estimar o número de pessoas $E_0$ no período de incubação no tempo inicial e não temos dados do Ministério da Saúde no que tange ao número $R_0$ de recuperados no tempo inicial, trataremos essas condições iniciais como parâmetros a serem estimados. As condições iniciais que conhecemos são a população total $N_0$ e o número de infectados $I_0$."
   ]
  },
  {
   "cell_type": "code",
   "execution_count": 3,
   "metadata": {},
   "outputs": [],
   "source": [
    "def dstate(state, params):\n",
    "    \n",
    "    # state and params are numpy arrays\n",
    "    \n",
    "    [S, E, I, R] = state\n",
    "    [alpha, beta, gamma, mu] = params\n",
    "    \n",
    "    N = sum(state)\n",
    "    \n",
    "    dS = - beta*S*I/N \n",
    "    dE = beta*S*I/N - alpha*E\n",
    "    dI = alpha*E - (gamma + mu)*I\n",
    "    dR = gamma*I\n",
    "    \n",
    "    return np.array([dS, dE, dI, dR])\n",
    "    \n",
    "def update_state(state, params):\n",
    "    return state + dstate(state, params)\n",
    "\n",
    "def state_history(T, initstate, params):\n",
    "    if T == 0:\n",
    "        return initstate\n",
    "    else:\n",
    "        for t in range(T):\n",
    "            if t == 0:\n",
    "                state_matrix = [initstate]\n",
    "            else:\n",
    "                state_matrix = np.vstack((state_matrix, update_state(state_matrix[t - 1][:], params)))\n",
    "    model = pd.DataFrame(state_matrix, columns = ['S', 'E', 'I', 'R'])\n",
    "    \n",
    "    times = [t for t in range(T)]\n",
    "    model.insert(0, 't', times)\n",
    "    \n",
    "    deaths = N0 - model['S'] - model['E'] - model['I'] - model['R']\n",
    "    model.insert(5, 'D', deaths)\n",
    "    \n",
    "    return model"
   ]
  },
  {
   "cell_type": "markdown",
   "metadata": {},
   "source": [
    "Vamos tentar estimar os parâmetros `params` e `initstate` a partir dos dados do Brasil. Usaremos apenas o número de casos confirmados ativos (como proxy para o número de infectados $I$) e o número de mortes, já que o Ministério da Saúde não disponibiliza o número de casos confirmados recuperados."
   ]
  },
  {
   "cell_type": "code",
   "execution_count": 4,
   "metadata": {},
   "outputs": [],
   "source": [
    "urllib.request.urlretrieve(\"https://covid.ourworldindata.org/data/ecdc/total_cases.csv\", \"cases.csv\")\n",
    "urllib.request.urlretrieve(\"https://covid.ourworldindata.org/data/ecdc/total_deaths.csv\", \"deaths.csv\")\n",
    "\n",
    "cases = pd.read_csv(\"cases.csv\")\n",
    "deaths = pd.read_csv(\"deaths.csv\")"
   ]
  },
  {
   "cell_type": "code",
   "execution_count": 5,
   "metadata": {},
   "outputs": [],
   "source": [
    "condition = cases['Brazil'] >= 100\n",
    "\n",
    "br_cases = cases[condition]\n",
    "br_deaths = deaths[condition]\n",
    "br_cases = br_cases['Brazil'].reset_index()\n",
    "br_deaths = br_deaths['Brazil'].reset_index()"
   ]
  },
  {
   "cell_type": "code",
   "execution_count": 6,
   "metadata": {},
   "outputs": [
    {
     "data": {
      "text/html": [
       "<div>\n",
       "<style scoped>\n",
       "    .dataframe tbody tr th:only-of-type {\n",
       "        vertical-align: middle;\n",
       "    }\n",
       "\n",
       "    .dataframe tbody tr th {\n",
       "        vertical-align: top;\n",
       "    }\n",
       "\n",
       "    .dataframe thead th {\n",
       "        text-align: right;\n",
       "    }\n",
       "</style>\n",
       "<table border=\"1\" class=\"dataframe\">\n",
       "  <thead>\n",
       "    <tr style=\"text-align: right;\">\n",
       "      <th></th>\n",
       "      <th>index</th>\n",
       "      <th>I</th>\n",
       "      <th>D</th>\n",
       "    </tr>\n",
       "  </thead>\n",
       "  <tbody>\n",
       "    <tr>\n",
       "      <th>0</th>\n",
       "      <td>75</td>\n",
       "      <td>121.0</td>\n",
       "      <td>0.0</td>\n",
       "    </tr>\n",
       "    <tr>\n",
       "      <th>1</th>\n",
       "      <td>76</td>\n",
       "      <td>200.0</td>\n",
       "      <td>0.0</td>\n",
       "    </tr>\n",
       "    <tr>\n",
       "      <th>2</th>\n",
       "      <td>77</td>\n",
       "      <td>234.0</td>\n",
       "      <td>0.0</td>\n",
       "    </tr>\n",
       "    <tr>\n",
       "      <th>3</th>\n",
       "      <td>78</td>\n",
       "      <td>291.0</td>\n",
       "      <td>1.0</td>\n",
       "    </tr>\n",
       "    <tr>\n",
       "      <th>4</th>\n",
       "      <td>79</td>\n",
       "      <td>428.0</td>\n",
       "      <td>4.0</td>\n",
       "    </tr>\n",
       "    <tr>\n",
       "      <th>5</th>\n",
       "      <td>80</td>\n",
       "      <td>621.0</td>\n",
       "      <td>6.0</td>\n",
       "    </tr>\n",
       "    <tr>\n",
       "      <th>6</th>\n",
       "      <td>81</td>\n",
       "      <td>904.0</td>\n",
       "      <td>11.0</td>\n",
       "    </tr>\n",
       "    <tr>\n",
       "      <th>7</th>\n",
       "      <td>82</td>\n",
       "      <td>1128.0</td>\n",
       "      <td>18.0</td>\n",
       "    </tr>\n",
       "    <tr>\n",
       "      <th>8</th>\n",
       "      <td>83</td>\n",
       "      <td>1546.0</td>\n",
       "      <td>25.0</td>\n",
       "    </tr>\n",
       "    <tr>\n",
       "      <th>9</th>\n",
       "      <td>84</td>\n",
       "      <td>1891.0</td>\n",
       "      <td>34.0</td>\n",
       "    </tr>\n",
       "    <tr>\n",
       "      <th>10</th>\n",
       "      <td>85</td>\n",
       "      <td>2201.0</td>\n",
       "      <td>46.0</td>\n",
       "    </tr>\n",
       "    <tr>\n",
       "      <th>11</th>\n",
       "      <td>86</td>\n",
       "      <td>2433.0</td>\n",
       "      <td>57.0</td>\n",
       "    </tr>\n",
       "    <tr>\n",
       "      <th>12</th>\n",
       "      <td>87</td>\n",
       "      <td>2915.0</td>\n",
       "      <td>77.0</td>\n",
       "    </tr>\n",
       "    <tr>\n",
       "      <th>13</th>\n",
       "      <td>88</td>\n",
       "      <td>3417.0</td>\n",
       "      <td>92.0</td>\n",
       "    </tr>\n",
       "    <tr>\n",
       "      <th>14</th>\n",
       "      <td>89</td>\n",
       "      <td>3904.0</td>\n",
       "      <td>114.0</td>\n",
       "    </tr>\n",
       "    <tr>\n",
       "      <th>15</th>\n",
       "      <td>90</td>\n",
       "      <td>4256.0</td>\n",
       "      <td>136.0</td>\n",
       "    </tr>\n",
       "    <tr>\n",
       "      <th>16</th>\n",
       "      <td>91</td>\n",
       "      <td>4579.0</td>\n",
       "      <td>159.0</td>\n",
       "    </tr>\n",
       "    <tr>\n",
       "      <th>17</th>\n",
       "      <td>92</td>\n",
       "      <td>5717.0</td>\n",
       "      <td>201.0</td>\n",
       "    </tr>\n",
       "  </tbody>\n",
       "</table>\n",
       "</div>"
      ],
      "text/plain": [
       "    index       I      D\n",
       "0      75   121.0    0.0\n",
       "1      76   200.0    0.0\n",
       "2      77   234.0    0.0\n",
       "3      78   291.0    1.0\n",
       "4      79   428.0    4.0\n",
       "5      80   621.0    6.0\n",
       "6      81   904.0   11.0\n",
       "7      82  1128.0   18.0\n",
       "8      83  1546.0   25.0\n",
       "9      84  1891.0   34.0\n",
       "10     85  2201.0   46.0\n",
       "11     86  2433.0   57.0\n",
       "12     87  2915.0   77.0\n",
       "13     88  3417.0   92.0\n",
       "14     89  3904.0  114.0\n",
       "15     90  4256.0  136.0\n",
       "16     91  4579.0  159.0\n",
       "17     92  5717.0  201.0"
      ]
     },
     "execution_count": 6,
     "metadata": {},
     "output_type": "execute_result"
    }
   ],
   "source": [
    "br_cases = br_cases.rename(columns={\"Brazil\": \"I\"})\n",
    "br_deaths = br_deaths.rename(columns={\"Brazil\": \"D\"})\n",
    "\n",
    "br_data = br_cases\n",
    "br_data.insert(2, 'D', br_deaths['D'])\n",
    "\n",
    "br_data"
   ]
  },
  {
   "cell_type": "code",
   "execution_count": 7,
   "metadata": {},
   "outputs": [],
   "source": [
    "def loss_function(data, initstate, params):\n",
    "    T = len(data)\n",
    "    model = state_history(T, initstate, params)\n",
    "    loss = sum((model['I'] - data['I'])**2)/(data['I'].std())**2 + sum((model['D'] - data['D'])**2)/(data['D'].std())**2\n",
    "    return loss"
   ]
  },
  {
   "cell_type": "code",
   "execution_count": 8,
   "metadata": {},
   "outputs": [
    {
     "name": "stdout",
     "output_type": "stream",
     "text": [
      "100%|██████████| 2000/2000 [01:00<00:00, 33.24trial/s, best loss: 0.4334341694608772]\n"
     ]
    },
    {
     "data": {
      "text/plain": [
       "{'E0': 998.8714131450748,\n",
       " 'R0': 3.785190091701162,\n",
       " 'alpha': 0.18305408289713238,\n",
       " 'beta': 0.3339411364178846,\n",
       " 'gamma': 0.006818523262002721,\n",
       " 'mu': 0.006112463643189515}"
      ]
     },
     "execution_count": 8,
     "metadata": {},
     "output_type": "execute_result"
    }
   ],
   "source": [
    "space = {\n",
    "    'alpha': hp.uniform('alpha', 0.01, 0.2),\n",
    "    'beta': hp.uniform('beta', 0.2, 0.6),\n",
    "    'gamma': hp.uniform('gamma', 0.001, 0.01),\n",
    "    'mu': hp.uniform('mu', 0.001, 0.1),\n",
    "    'E0': hp.loguniform('E0', np.log(100), np.log(1000)),\n",
    "    'R0': hp.loguniform('R0', np.log(1), np.log(10)),\n",
    "}\n",
    "\n",
    "def loss(space):\n",
    "    \n",
    "    N0 = 200000000\n",
    "    I0 = br_cases['I'][0]\n",
    "    \n",
    "    alpha = space['alpha']\n",
    "    beta = space['beta']\n",
    "    gamma = space['gamma']\n",
    "    mu = space['mu']\n",
    "    E0 = space['E0']\n",
    "    R0 = space['R0']\n",
    "    \n",
    "    params = [alpha, beta, gamma, mu]\n",
    "    initstate = [N0 - E0 - I0 - R0, E0, I0, R0]\n",
    "\n",
    "    return loss_function(br_cases, initstate, params)\n",
    "\n",
    "best = fmin(\n",
    "    fn = loss,\n",
    "    space = space,\n",
    "    algo = tpe.suggest,\n",
    "    max_evals = 2000\n",
    ")\n",
    "\n",
    "best"
   ]
  },
  {
   "cell_type": "code",
   "execution_count": 13,
   "metadata": {},
   "outputs": [
    {
     "data": {
      "text/plain": [
       "<matplotlib.axes._subplots.AxesSubplot at 0x7f8da0516580>"
      ]
     },
     "execution_count": 13,
     "metadata": {},
     "output_type": "execute_result"
    },
    {
     "data": {
      "image/png": "[encoded data removed]",
      "text/plain": [
       "<Figure size 432x288 with 1 Axes>"
      ]
     },
     "metadata": {
      "needs_background": "light"
     },
     "output_type": "display_data"
    }
   ],
   "source": [
    "I0 = br_cases['I'][0]\n",
    "\n",
    "params = [best['alpha'], best['beta'], best['gamma'], best['mu']]\n",
    "initstate = [N0 - best['E0'] - I0 - best['R0'], best['E0'], I0, best['R0']]\n",
    "\n",
    "states = state_history(100, initstate, params)\n",
    "\n",
    "states.plot()"
   ]
  },
  {
   "cell_type": "code",
   "execution_count": 28,
   "metadata": {},
   "outputs": [
    {
     "data": {
      "text/plain": [
       "(0.0, 10000.0)"
      ]
     },
     "execution_count": 28,
     "metadata": {},
     "output_type": "execute_result"
    },
    {
     "data": {
      "image/png": "[encoded data removed]",
      "text/plain": [
       "<Figure size 432x288 with 1 Axes>"
      ]
     },
     "metadata": {
      "needs_background": "light"
     },
     "output_type": "display_data"
    }
   ],
   "source": [
    "plt.plot(states['t'], states['I'], br_cases['I'], 'C0o')\n",
    "plt.xlim(0,15)\n",
    "plt.ylim(0, 10000)"
   ]
  },
  {
   "cell_type": "code",
   "execution_count": 29,
   "metadata": {},
   "outputs": [
    {
     "data": {
      "text/plain": [
       "(0.0, 130.0)"
      ]
     },
     "execution_count": 29,
     "metadata": {},
     "output_type": "execute_result"
    },
    {
     "data": {
      "image/png": "[encoded data removed]",
      "text/plain": [
       "<Figure size 432x288 with 1 Axes>"
      ]
     },
     "metadata": {
      "needs_background": "light"
     },
     "output_type": "display_data"
    }
   ],
   "source": [
    "plt.plot(states['t'], states['D'], br_cases['D'], 'C0o')\n",
    "plt.xlim(0,15)\n",
    "plt.ylim(0, 130)"
   ]
  },
  {
   "cell_type": "code",
   "execution_count": 30,
   "metadata": {},
   "outputs": [
    {
     "name": "stdout",
     "output_type": "stream",
     "text": [
      "6.680991867530429\n"
     ]
    }
   ],
   "source": [
    "R0 = 1/(1 - states['I'].max()/N0)\n",
    "print(R0)"
   ]
  }
 ],
 "metadata": {
  "kernelspec": {
   "display_name": "Python 3",
   "language": "python",
   "name": "python3"
  },
  "language_info": {
   "codemirror_mode": {
    "name": "ipython",
    "version": 3
   },
   "file_extension": ".py",
   "mimetype": "text/x-python",
   "name": "python",
   "nbconvert_exporter": "python",
   "pygments_lexer": "ipython3",
   "version": "3.8.2"
  }
 },
 "nbformat": 4,
 "nbformat_minor": 2
}
